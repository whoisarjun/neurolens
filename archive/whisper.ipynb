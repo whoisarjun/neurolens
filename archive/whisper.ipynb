{
 "cells": [
  {
   "metadata": {},
   "cell_type": "markdown",
   "source": "# Whisper Model (Hackathon Edition)",
   "id": "58fd94e6cc56a6b9"
  },
  {
   "metadata": {},
   "cell_type": "code",
   "outputs": [],
   "execution_count": 1,
   "source": [
    "# Function to add pauses into transcript\n",
    "\n",
    "def stitch_up_transcript(segments, pause_threshold=3):\n",
    "    if not segments:\n",
    "        return \"\"\n",
    "\n",
    "    stitched = segments[0]['text'].strip()\n",
    "    for i in range(len(segments) - 1):\n",
    "        gap = segments[i+1]['start'] - segments[i]['end']\n",
    "        if gap > pause_threshold:\n",
    "            stitched += \" ... \"\n",
    "        else:\n",
    "            stitched += \" \"\n",
    "        stitched += segments[i+1]['text'].strip()\n",
    "\n",
    "    return stitched"
   ],
   "id": "d2d9583f5666892c"
  },
  {
   "metadata": {
    "ExecuteTime": {
     "end_time": "2025-07-09T12:31:34.191471Z",
     "start_time": "2025-07-09T12:31:34.186851Z"
    }
   },
   "cell_type": "code",
   "source": [
    "# Format transcript from whisper and put into json format\n",
    "\n",
    "def format_transcript(patient_id: str, day_num: int, result: {}, pause_threshold=3):\n",
    "    segments = result.get('segments', [])\n",
    "\n",
    "    transcript_text = stitch_up_transcript(segments, pause_threshold)\n",
    "    duration = segments[-1]['end'] if segments else 0\n",
    "\n",
    "    # Count filler words\n",
    "    filler_words = {'um', 'uh', 'erm', 'like', 'you know', 'basically'}\n",
    "    filler_count = sum(\n",
    "        sum(word.lower() in filler_words for word in segment['text'].split())\n",
    "        for segment in segments\n",
    "    )\n",
    "\n",
    "    avg_segment_len = sum(len(segment['text'].split()) for segment in segments) / len(segments) if segments else 0\n",
    "    coherence_score = round(min(1.0, avg_segment_len / 15), 3)\n",
    "\n",
    "    return {\n",
    "        'patient_id': patient_id,\n",
    "        'day_num': day_num,\n",
    "        'duration_sec': duration,\n",
    "        'filler_count': filler_count,\n",
    "        'coherence_score': coherence_score,\n",
    "        'transcript_text': transcript_text,\n",
    "        'segments': [\n",
    "            {\n",
    "                'start': segment['start'],\n",
    "                'end': segment['end'],\n",
    "                'text': segment['text']\n",
    "            }\n",
    "            for segment in segments\n",
    "        ]\n",
    "    }"
   ],
   "id": "initial_id",
   "outputs": [],
   "execution_count": 2
  },
  {
   "metadata": {
    "ExecuteTime": {
     "end_time": "2025-07-09T12:31:41.518430Z",
     "start_time": "2025-07-09T12:31:37.188808Z"
    }
   },
   "cell_type": "code",
   "source": [
    "# Whisper model to transcribe audio\n",
    "\n",
    "import whisper\n",
    "\n",
    "def transcribe(path):\n",
    "    model = whisper.load_model('tiny')\n",
    "\n",
    "    result = model.transcribe(path, word_timestamps=True, language='en')\n",
    "    return result"
   ],
   "id": "f99156e1182d9488",
   "outputs": [],
   "execution_count": 3
  },
  {
   "metadata": {
    "ExecuteTime": {
     "end_time": "2025-07-09T12:31:42.724622Z",
     "start_time": "2025-07-09T12:31:42.721864Z"
    }
   },
   "cell_type": "code",
   "source": [
    "# Dump formatted json into a file\n",
    "\n",
    "import json\n",
    "\n",
    "def dump(patient_id, day_num, result, path):\n",
    "    json_data = format_transcript(patient_id, day_num, result)\n",
    "    with open(path, 'w') as f:\n",
    "        json.dump(json_data, f, indent=4)"
   ],
   "id": "5741628b3c6e31a3",
   "outputs": [],
   "execution_count": 4
  },
  {
   "metadata": {
    "ExecuteTime": {
     "end_time": "2025-07-09T12:31:44.615477Z",
     "start_time": "2025-07-09T12:31:44.612478Z"
    }
   },
   "cell_type": "code",
   "source": [
    "# Quick function to transcribe a file into the nice format\n",
    "\n",
    "import os\n",
    "\n",
    "def prep_transcription(patient_id, day_num, path, save_path=None):\n",
    "    result = transcribe(path)\n",
    "    if save_path is None:\n",
    "\n",
    "        i = 0\n",
    "        while True:\n",
    "            candidate = f\"output{'' if i == 0 else i}.json\"\n",
    "            if not os.path.exists(candidate):\n",
    "                save_path = candidate\n",
    "                break\n",
    "            i += 1\n",
    "    dump(patient_id, day_num, result, save_path)"
   ],
   "id": "b1148997d7bdb84f",
   "outputs": [],
   "execution_count": 5
  },
  {
   "metadata": {
    "ExecuteTime": {
     "end_time": "2025-06-14T08:24:20.366012Z",
     "start_time": "2025-06-14T08:24:14.993751Z"
    }
   },
   "cell_type": "code",
   "source": [
    "# TEST CASE\n",
    "prep_transcription('P001', 8, 'test.wav')"
   ],
   "id": "eb016a396083d26f",
   "outputs": [
    {
     "name": "stderr",
     "output_type": "stream",
     "text": [
      "/Users/arjunpalakkal/Documents/[01] Personal/[01] Coding Projects/[02] Github Stuff/[01] Graphite/.venv/lib/python3.10/site-packages/whisper/transcribe.py:126: UserWarning: FP16 is not supported on CPU; using FP32 instead\n",
      "  warnings.warn(\"FP16 is not supported on CPU; using FP32 instead\")\n"
     ]
    }
   ],
   "execution_count": 6
  }
 ],
 "metadata": {
  "kernelspec": {
   "display_name": "Python 3",
   "language": "python",
   "name": "python3"
  },
  "language_info": {
   "codemirror_mode": {
    "name": "ipython",
    "version": 2
   },
   "file_extension": ".py",
   "mimetype": "text/x-python",
   "name": "python",
   "nbconvert_exporter": "python",
   "pygments_lexer": "ipython2",
   "version": "2.7.6"
  }
 },
 "nbformat": 4,
 "nbformat_minor": 5
}
