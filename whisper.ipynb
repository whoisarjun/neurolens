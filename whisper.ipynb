{
 "cells": [
  {
   "metadata": {
    "ExecuteTime": {
     "end_time": "2025-06-13T14:52:29.591774Z",
     "start_time": "2025-06-13T14:52:29.586422Z"
    }
   },
   "cell_type": "code",
   "source": [
    "# Function to add pauses into transcript\n",
    "\n",
    "def stitch_up_transcript(segments, pause_threshold=3):\n",
    "    if not segments:\n",
    "        return \"\"\n",
    "\n",
    "    stitched = segments[0]['text'].strip()\n",
    "    for i in range(len(segments) - 1):\n",
    "        gap = segments[i+1]['start'] - segments[i]['end']\n",
    "        if gap > pause_threshold:\n",
    "            stitched += \" ... \"\n",
    "        else:\n",
    "            stitched += \" \"\n",
    "        stitched += segments[i+1]['text'].strip()\n",
    "\n",
    "    return stitched"
   ],
   "id": "d2d9583f5666892c",
   "outputs": [],
   "execution_count": 33
  },
  {
   "metadata": {
    "ExecuteTime": {
     "end_time": "2025-06-13T14:52:30.462498Z",
     "start_time": "2025-06-13T14:52:30.458951Z"
    }
   },
   "cell_type": "code",
   "source": [
    "# Format transcript from whisper and put into json format\n",
    "\n",
    "def format_transcript(patient_id, day_num, result, pause_threshold=0.5):\n",
    "    segments = result.get('segments', [])\n",
    "\n",
    "    transcript_text = stitch_up_transcript(segments, pause_threshold)\n",
    "\n",
    "    duration = segments[-1]['end'] if segments else 0\n",
    "\n",
    "    return {\n",
    "        'patient_id': patient_id,\n",
    "        'day_num': day_num,\n",
    "        'duration_sec': duration,\n",
    "        'transcript_text': transcript_text,\n",
    "        'segments': [\n",
    "            {\n",
    "                'start': segment['start'],\n",
    "                'end': segment['end'],\n",
    "                'text': segment['text']\n",
    "            }\n",
    "            for segment in segments\n",
    "        ]\n",
    "    }"
   ],
   "id": "initial_id",
   "outputs": [],
   "execution_count": 34
  },
  {
   "metadata": {
    "ExecuteTime": {
     "end_time": "2025-06-13T14:52:35.583282Z",
     "start_time": "2025-06-13T14:52:35.579630Z"
    }
   },
   "cell_type": "code",
   "source": [
    "# Whisper model to transcribe audio\n",
    "\n",
    "import whisper\n",
    "\n",
    "def transcribe(path):\n",
    "    model = whisper.load_model('tiny')\n",
    "\n",
    "    result = model.transcribe(path, word_timestamps=True)\n",
    "    return result"
   ],
   "id": "f99156e1182d9488",
   "outputs": [],
   "execution_count": 36
  },
  {
   "metadata": {
    "ExecuteTime": {
     "end_time": "2025-06-13T14:52:36.666402Z",
     "start_time": "2025-06-13T14:52:36.663652Z"
    }
   },
   "cell_type": "code",
   "source": [
    "# Dump formatted json into a file\n",
    "\n",
    "def dump(patient_id, day_num, result, path):\n",
    "    json_data = format_transcript(patient_id, day_num, result)\n",
    "    import json\n",
    "    with open(path, 'w') as f:\n",
    "        json.dump(json_data, f, indent=4)"
   ],
   "id": "5741628b3c6e31a3",
   "outputs": [],
   "execution_count": 37
  },
  {
   "metadata": {
    "ExecuteTime": {
     "end_time": "2025-06-13T14:52:37.721813Z",
     "start_time": "2025-06-13T14:52:37.718086Z"
    }
   },
   "cell_type": "code",
   "source": [
    "# Quick function to transcribe a file into the nice format\n",
    "\n",
    "import os\n",
    "\n",
    "def prep_transcription(patient_id, day_num, path, save_path=None):\n",
    "    result = transcribe(path)\n",
    "    if save_path is None:\n",
    "        i = 0\n",
    "        while True:\n",
    "            candidate = f\"output{'' if i == 0 else i}.json\"\n",
    "            if not os.path.exists(candidate):\n",
    "                save_path = candidate\n",
    "                break\n",
    "            i += 1\n",
    "    dump(patient_id, day_num, result, save_path)"
   ],
   "id": "b1148997d7bdb84f",
   "outputs": [],
   "execution_count": 38
  },
  {
   "metadata": {
    "ExecuteTime": {
     "end_time": "2025-06-13T14:53:46.251658Z",
     "start_time": "2025-06-13T14:52:57.065248Z"
    }
   },
   "cell_type": "code",
   "source": [
    "# TEST CASE\n",
    "\n",
    "prep_transcription('P001', 8, 'test_audio_full.wav')"
   ],
   "id": "eb016a396083d26f",
   "outputs": [
    {
     "name": "stderr",
     "output_type": "stream",
     "text": [
      "/Users/arjunpalakkal/Documents/[01] Personal/[01] Coding Projects/[02] Github Stuff/[02] Alzheimers/.venv/lib/python3.10/site-packages/whisper/transcribe.py:126: UserWarning: FP16 is not supported on CPU; using FP32 instead\n",
      "  warnings.warn(\"FP16 is not supported on CPU; using FP32 instead\")\n"
     ]
    }
   ],
   "execution_count": 39
  }
 ],
 "metadata": {
  "kernelspec": {
   "display_name": "Python 3",
   "language": "python",
   "name": "python3"
  },
  "language_info": {
   "codemirror_mode": {
    "name": "ipython",
    "version": 2
   },
   "file_extension": ".py",
   "mimetype": "text/x-python",
   "name": "python",
   "nbconvert_exporter": "python",
   "pygments_lexer": "ipython2",
   "version": "2.7.6"
  }
 },
 "nbformat": 4,
 "nbformat_minor": 5
}
